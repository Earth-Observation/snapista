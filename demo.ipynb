{
 "cells": [
  {
   "cell_type": "code",
   "execution_count": 1,
   "metadata": {},
   "outputs": [],
   "source": [
    "%load_ext autoreload\n",
    "%autoreload 2"
   ]
  },
  {
   "cell_type": "code",
   "execution_count": 2,
   "metadata": {},
   "outputs": [],
   "source": [
    "from py_snap_helpers import Graph\n",
    "from py_snap_helpers import Operator\n",
    "from py_snap_helpers import OperatorParams"
   ]
  },
  {
   "cell_type": "code",
   "execution_count": 3,
   "metadata": {},
   "outputs": [
    {
     "data": {
      "text/plain": [
       "Operator('Calibration', sourceBandNames='None', auxFile='Latest Auxiliary File', externalAuxFile='None', outputImageInComplex='false', outputImageScaleInDb='false', createGammaBand='false', createBetaBand='false', selectedPolarisations='None', outputSigmaBand='true', outputGammaBand='false', outputBetaBand='false')"
      ]
     },
     "execution_count": 3,
     "metadata": {},
     "output_type": "execute_result"
    }
   ],
   "source": [
    "calibration = Operator('Calibration')\n",
    "\n",
    "calibration.createBetaBand = 'true'\n",
    "\n",
    "calibration"
   ]
  },
  {
   "cell_type": "code",
   "execution_count": 4,
   "metadata": {},
   "outputs": [
    {
     "data": {
      "text/plain": [
       "Operator('Calibration', sourceBandNames='None', auxFile='Latest Auxiliary File', externalAuxFile='None', outputImageInComplex='false', outputImageScaleInDb='false', createGammaBand='false', createBetaBand='false', selectedPolarisations='None', outputSigmaBand='true', outputGammaBand='false', outputBetaBand='false')"
      ]
     },
     "execution_count": 4,
     "metadata": {},
     "output_type": "execute_result"
    }
   ],
   "source": [
    "calibration = Operator('Calibration')\n",
    "\n",
    "calibration.createBetaBand = 'false'\n",
    "\n",
    "calibration"
   ]
  },
  {
   "cell_type": "code",
   "execution_count": 5,
   "metadata": {},
   "outputs": [],
   "source": [
    "calibration = Operator('Calibration', \n",
    "                       createBetaBand='true', createGammaBand='true')"
   ]
  },
  {
   "cell_type": "code",
   "execution_count": 6,
   "metadata": {},
   "outputs": [
    {
     "data": {
      "text/plain": [
       "Operator('Calibration', sourceBandNames='None', auxFile='Latest Auxiliary File', externalAuxFile='None', outputImageInComplex='false', outputImageScaleInDb='false', createGammaBand='true', createBetaBand='true', selectedPolarisations='None', outputSigmaBand='true', outputGammaBand='false', outputBetaBand='false')"
      ]
     },
     "execution_count": 6,
     "metadata": {},
     "output_type": "execute_result"
    }
   ],
   "source": [
    "calibration"
   ]
  },
  {
   "cell_type": "code",
   "execution_count": 7,
   "metadata": {},
   "outputs": [
    {
     "name": "stdout",
     "output_type": "stream",
     "text": [
      "Calibration\n",
      "{'sourceBandNames': None, 'auxFile': 'Latest Auxiliary File', 'externalAuxFile': None, 'outputImageInComplex': 'false', 'outputImageScaleInDb': 'false', 'createGammaBand': 'true', 'createBetaBand': 'true', 'selectedPolarisations': None, 'outputSigmaBand': 'true', 'outputGammaBand': 'false', 'outputBetaBand': 'false'}\n"
     ]
    }
   ],
   "source": [
    "print(calibration)"
   ]
  },
  {
   "cell_type": "code",
   "execution_count": 8,
   "metadata": {},
   "outputs": [
    {
     "name": "stdout",
     "output_type": "stream",
     "text": [
      "true\n",
      "Calibration\n",
      "{'sourceBandNames': None, 'auxFile': 'Latest Auxiliary File', 'externalAuxFile': None, 'outputImageInComplex': 'false', 'outputImageScaleInDb': 'false', 'createGammaBand': 'false', 'createBetaBand': 'false', 'selectedPolarisations': None, 'outputSigmaBand': 'true', 'outputGammaBand': 'false', 'outputBetaBand': 'false'}\n"
     ]
    }
   ],
   "source": [
    "calibration = Operator('Calibration')\n",
    "\n",
    "calibration.createBetaBand = 'true'\n",
    "print(calibration.createBetaBand)\n",
    "print(calibration)\n",
    "\n"
   ]
  },
  {
   "cell_type": "code",
   "execution_count": 9,
   "metadata": {},
   "outputs": [
    {
     "data": {
      "text/plain": [
       "Graph(wdir='.')"
      ]
     },
     "execution_count": 9,
     "metadata": {},
     "output_type": "execute_result"
    }
   ],
   "source": [
    "g = Graph()\n",
    "\n",
    "g"
   ]
  },
  {
   "cell_type": "code",
   "execution_count": 10,
   "metadata": {},
   "outputs": [
    {
     "name": "stdout",
     "output_type": "stream",
     "text": [
      "gpt binary: /srv/conda/envs/env_snap/snap/bin/gpt\n",
      "working dir: .\n",
      "\n",
      "<graph>\n",
      "  <version>1.0</version>\n",
      "</graph>\n",
      "\n"
     ]
    }
   ],
   "source": [
    "print(g)"
   ]
  },
  {
   "cell_type": "code",
   "execution_count": 11,
   "metadata": {},
   "outputs": [],
   "source": [
    "g.add_node(Operator('Read'), 'read_1')\n",
    "\n",
    "calibration = Operator('Calibration')\n",
    "\n",
    "calibration.createBetaBand = 'false'\n",
    "\n",
    "g.add_node(calibration, 'calibration', 'read_1')"
   ]
  },
  {
   "cell_type": "code",
   "execution_count": 12,
   "metadata": {},
   "outputs": [
    {
     "name": "stdout",
     "output_type": "stream",
     "text": [
      "<graph>\n",
      "  <version>1.0</version>\n",
      "  <node id=\"read_1\">\n",
      "    <operator>Read</operator>\n",
      "    <sources/>\n",
      "    <parameters class=\"com.bc.ceres.binding.dom.XppDomElement\">\n",
      "      <file/>\n",
      "      <formatName/>\n",
      "      <operator>Read</operator>\n",
      "    </parameters>\n",
      "  </node>\n",
      "  <node id=\"calibration\">\n",
      "    <operator>Calibration</operator>\n",
      "    <sources>\n",
      "      <sourceProduct refid=\"read_1\"/>\n",
      "    </sources>\n",
      "    <parameters class=\"com.bc.ceres.binding.dom.XppDomElement\">\n",
      "      <auxFile>Latest Auxiliary File</auxFile>\n",
      "      <createBetaBand>false</createBetaBand>\n",
      "      <createGammaBand>false</createGammaBand>\n",
      "      <externalAuxFile/>\n",
      "      <operator>Calibration</operator>\n",
      "      <outputBetaBand>false</outputBetaBand>\n",
      "      <outputGammaBand>false</outputGammaBand>\n",
      "      <outputImageInComplex>false</outputImageInComplex>\n",
      "      <outputImageScaleInDb>false</outputImageScaleInDb>\n",
      "      <outputSigmaBand>true</outputSigmaBand>\n",
      "      <selectedPolarisations/>\n",
      "      <sourceBandNames/>\n",
      "    </parameters>\n",
      "  </node>\n",
      "</graph>\n",
      "\n"
     ]
    }
   ],
   "source": [
    "g.view()"
   ]
  },
  {
   "cell_type": "code",
   "execution_count": 13,
   "metadata": {},
   "outputs": [
    {
     "name": "stdout",
     "output_type": "stream",
     "text": [
      "gpt binary: /srv/conda/envs/env_snap/snap/bin/gpt\n",
      "working dir: .\n",
      "\n",
      "<graph>\n",
      "  <version>1.0</version>\n",
      "  <node id=\"read_1\">\n",
      "    <operator>Read</operator>\n",
      "    <sources/>\n",
      "    <parameters class=\"com.bc.ceres.binding.dom.XppDomElement\">\n",
      "      <file/>\n",
      "      <formatName/>\n",
      "      <operator>Read</operator>\n",
      "    </parameters>\n",
      "  </node>\n",
      "  <node id=\"calibration\">\n",
      "    <operator>Calibration</operator>\n",
      "    <sources>\n",
      "      <sourceProduct refid=\"read_1\"/>\n",
      "    </sources>\n",
      "    <parameters class=\"com.bc.ceres.binding.dom.XppDomElement\">\n",
      "      <auxFile>Latest Auxiliary File</auxFile>\n",
      "      <createBetaBand>false</createBetaBand>\n",
      "      <createGammaBand>false</createGammaBand>\n",
      "      <externalAuxFile/>\n",
      "      <operator>Calibration</operator>\n",
      "      <outputBetaBand>false</outputBetaBand>\n",
      "      <outputGammaBand>false</outputGammaBand>\n",
      "      <outputImageInComplex>false</outputImageInComplex>\n",
      "      <outputImageScaleInDb>false</outputImageScaleInDb>\n",
      "      <outputSigmaBand>true</outputSigmaBand>\n",
      "      <selectedPolarisations/>\n",
      "      <sourceBandNames/>\n",
      "    </parameters>\n",
      "  </node>\n",
      "</graph>\n",
      "\n"
     ]
    }
   ],
   "source": [
    "print(g)"
   ]
  },
  {
   "cell_type": "code",
   "execution_count": 14,
   "metadata": {},
   "outputs": [
    {
     "name": "stdout",
     "output_type": "stream",
     "text": [
      "Processing the graph\n",
      "Executing processing graph\n",
      "done.\n"
     ]
    },
    {
     "ename": "Exception",
     "evalue": "Graph execution failed (exit code 1)",
     "output_type": "error",
     "traceback": [
      "\u001b[0;31m---------------------------------------------------------------------------\u001b[0m",
      "\u001b[0;31mException\u001b[0m                                 Traceback (most recent call last)",
      "\u001b[0;32m<ipython-input-14-a4e638c88413>\u001b[0m in \u001b[0;36m<module>\u001b[0;34m\u001b[0m\n\u001b[0;32m----> 1\u001b[0;31m \u001b[0mg\u001b[0m\u001b[0;34m.\u001b[0m\u001b[0mrun\u001b[0m\u001b[0;34m(\u001b[0m\u001b[0;34m)\u001b[0m\u001b[0;34m\u001b[0m\u001b[0;34m\u001b[0m\u001b[0m\n\u001b[0m",
      "\u001b[0;32m/srv/conda/envs/env_snap/lib/python3.7/site-packages/UNKNOWN-0.0.0-py3.7.egg/py_snap_helpers/graph.py\u001b[0m in \u001b[0;36mrun\u001b[0;34m(self)\u001b[0m\n\u001b[1;32m    300\u001b[0m         \u001b[0;32mif\u001b[0m \u001b[0mrc\u001b[0m \u001b[0;34m!=\u001b[0m \u001b[0;36m0\u001b[0m\u001b[0;34m:\u001b[0m\u001b[0;34m\u001b[0m\u001b[0;34m\u001b[0m\u001b[0m\n\u001b[1;32m    301\u001b[0m \u001b[0;34m\u001b[0m\u001b[0m\n\u001b[0;32m--> 302\u001b[0;31m             \u001b[0;32mraise\u001b[0m \u001b[0mException\u001b[0m\u001b[0;34m(\u001b[0m\u001b[0;34m'Graph execution failed (exit code {})'\u001b[0m\u001b[0;34m.\u001b[0m\u001b[0mformat\u001b[0m\u001b[0;34m(\u001b[0m\u001b[0mrc\u001b[0m\u001b[0;34m)\u001b[0m\u001b[0;34m)\u001b[0m\u001b[0;34m\u001b[0m\u001b[0;34m\u001b[0m\u001b[0m\n\u001b[0m\u001b[1;32m    303\u001b[0m \u001b[0;34m\u001b[0m\u001b[0m\n\u001b[1;32m    304\u001b[0m         \u001b[0;32mreturn\u001b[0m \u001b[0mrc\u001b[0m\u001b[0;34m\u001b[0m\u001b[0;34m\u001b[0m\u001b[0m\n",
      "\u001b[0;31mException\u001b[0m: Graph execution failed (exit code 1)"
     ]
    }
   ],
   "source": [
    "g.run()"
   ]
  },
  {
   "cell_type": "code",
   "execution_count": null,
   "metadata": {},
   "outputs": [],
   "source": [
    "calibration.describe()"
   ]
  },
  {
   "cell_type": "code",
   "execution_count": null,
   "metadata": {},
   "outputs": [],
   "source": [
    "Graph.list_operators()"
   ]
  },
  {
   "cell_type": "code",
   "execution_count": null,
   "metadata": {},
   "outputs": [],
   "source": [
    "g.describe_operators()"
   ]
  },
  {
   "cell_type": "code",
   "execution_count": null,
   "metadata": {},
   "outputs": [],
   "source": [
    "Operator('KMeansClusterAnalysis').describe()"
   ]
  },
  {
   "cell_type": "code",
   "execution_count": null,
   "metadata": {},
   "outputs": [],
   "source": [
    "Operator('Write').describe()"
   ]
  },
  {
   "cell_type": "code",
   "execution_count": null,
   "metadata": {},
   "outputs": [],
   "source": [
    "Operator('Read').describe()"
   ]
  },
  {
   "cell_type": "code",
   "execution_count": null,
   "metadata": {},
   "outputs": [],
   "source": [
    "g = Graph()"
   ]
  },
  {
   "cell_type": "code",
   "execution_count": null,
   "metadata": {},
   "outputs": [],
   "source": [
    "Operator('Read').describe()"
   ]
  },
  {
   "cell_type": "code",
   "execution_count": null,
   "metadata": {},
   "outputs": [],
   "source": [
    "read = Operator('Read')\n",
    "\n",
    "read.formatName = 'SENTINEL-1'\n",
    "read.file = 'some1'\n",
    "\n",
    "\n",
    "operators = [read,\n",
    "             'Resample',\n",
    "             'Reproject',\n",
    "             'Subset',\n",
    "             'AddLandCover',\n",
    "             'Write']"
   ]
  },
  {
   "cell_type": "code",
   "execution_count": null,
   "metadata": {},
   "outputs": [],
   "source": [
    "type(read)"
   ]
  },
  {
   "cell_type": "code",
   "execution_count": null,
   "metadata": {},
   "outputs": [],
   "source": [
    "isinstance(read, Operator)"
   ]
  },
  {
   "cell_type": "code",
   "execution_count": 16,
   "metadata": {},
   "outputs": [
    {
     "data": {
      "text/html": [
       "<style type=\"text/css\">pre { line-height: 125%; }\n",
       "td.linenos pre { color: #000000; background-color: #f0f0f0; padding-left: 5px; padding-right: 5px; }\n",
       "span.linenos { color: #000000; background-color: #f0f0f0; padding-left: 5px; padding-right: 5px; }\n",
       "td.linenos pre.special { color: #000000; background-color: #ffffc0; padding-left: 5px; padding-right: 5px; }\n",
       "span.linenos.special { color: #000000; background-color: #ffffc0; padding-left: 5px; padding-right: 5px; }\n",
       ".highlight .hll { background-color: #ffffcc }\n",
       ".highlight { background: #f8f8f8; }\n",
       ".highlight .c { color: #408080; font-style: italic } /* Comment */\n",
       ".highlight .err { border: 1px solid #FF0000 } /* Error */\n",
       ".highlight .k { color: #008000; font-weight: bold } /* Keyword */\n",
       ".highlight .o { color: #666666 } /* Operator */\n",
       ".highlight .ch { color: #408080; font-style: italic } /* Comment.Hashbang */\n",
       ".highlight .cm { color: #408080; font-style: italic } /* Comment.Multiline */\n",
       ".highlight .cp { color: #BC7A00 } /* Comment.Preproc */\n",
       ".highlight .cpf { color: #408080; font-style: italic } /* Comment.PreprocFile */\n",
       ".highlight .c1 { color: #408080; font-style: italic } /* Comment.Single */\n",
       ".highlight .cs { color: #408080; font-style: italic } /* Comment.Special */\n",
       ".highlight .gd { color: #A00000 } /* Generic.Deleted */\n",
       ".highlight .ge { font-style: italic } /* Generic.Emph */\n",
       ".highlight .gr { color: #FF0000 } /* Generic.Error */\n",
       ".highlight .gh { color: #000080; font-weight: bold } /* Generic.Heading */\n",
       ".highlight .gi { color: #00A000 } /* Generic.Inserted */\n",
       ".highlight .go { color: #888888 } /* Generic.Output */\n",
       ".highlight .gp { color: #000080; font-weight: bold } /* Generic.Prompt */\n",
       ".highlight .gs { font-weight: bold } /* Generic.Strong */\n",
       ".highlight .gu { color: #800080; font-weight: bold } /* Generic.Subheading */\n",
       ".highlight .gt { color: #0044DD } /* Generic.Traceback */\n",
       ".highlight .kc { color: #008000; font-weight: bold } /* Keyword.Constant */\n",
       ".highlight .kd { color: #008000; font-weight: bold } /* Keyword.Declaration */\n",
       ".highlight .kn { color: #008000; font-weight: bold } /* Keyword.Namespace */\n",
       ".highlight .kp { color: #008000 } /* Keyword.Pseudo */\n",
       ".highlight .kr { color: #008000; font-weight: bold } /* Keyword.Reserved */\n",
       ".highlight .kt { color: #B00040 } /* Keyword.Type */\n",
       ".highlight .m { color: #666666 } /* Literal.Number */\n",
       ".highlight .s { color: #BA2121 } /* Literal.String */\n",
       ".highlight .na { color: #7D9029 } /* Name.Attribute */\n",
       ".highlight .nb { color: #008000 } /* Name.Builtin */\n",
       ".highlight .nc { color: #0000FF; font-weight: bold } /* Name.Class */\n",
       ".highlight .no { color: #880000 } /* Name.Constant */\n",
       ".highlight .nd { color: #AA22FF } /* Name.Decorator */\n",
       ".highlight .ni { color: #999999; font-weight: bold } /* Name.Entity */\n",
       ".highlight .ne { color: #D2413A; font-weight: bold } /* Name.Exception */\n",
       ".highlight .nf { color: #0000FF } /* Name.Function */\n",
       ".highlight .nl { color: #A0A000 } /* Name.Label */\n",
       ".highlight .nn { color: #0000FF; font-weight: bold } /* Name.Namespace */\n",
       ".highlight .nt { color: #008000; font-weight: bold } /* Name.Tag */\n",
       ".highlight .nv { color: #19177C } /* Name.Variable */\n",
       ".highlight .ow { color: #AA22FF; font-weight: bold } /* Operator.Word */\n",
       ".highlight .w { color: #bbbbbb } /* Text.Whitespace */\n",
       ".highlight .mb { color: #666666 } /* Literal.Number.Bin */\n",
       ".highlight .mf { color: #666666 } /* Literal.Number.Float */\n",
       ".highlight .mh { color: #666666 } /* Literal.Number.Hex */\n",
       ".highlight .mi { color: #666666 } /* Literal.Number.Integer */\n",
       ".highlight .mo { color: #666666 } /* Literal.Number.Oct */\n",
       ".highlight .sa { color: #BA2121 } /* Literal.String.Affix */\n",
       ".highlight .sb { color: #BA2121 } /* Literal.String.Backtick */\n",
       ".highlight .sc { color: #BA2121 } /* Literal.String.Char */\n",
       ".highlight .dl { color: #BA2121 } /* Literal.String.Delimiter */\n",
       ".highlight .sd { color: #BA2121; font-style: italic } /* Literal.String.Doc */\n",
       ".highlight .s2 { color: #BA2121 } /* Literal.String.Double */\n",
       ".highlight .se { color: #BB6622; font-weight: bold } /* Literal.String.Escape */\n",
       ".highlight .sh { color: #BA2121 } /* Literal.String.Heredoc */\n",
       ".highlight .si { color: #BB6688; font-weight: bold } /* Literal.String.Interpol */\n",
       ".highlight .sx { color: #008000 } /* Literal.String.Other */\n",
       ".highlight .sr { color: #BB6688 } /* Literal.String.Regex */\n",
       ".highlight .s1 { color: #BA2121 } /* Literal.String.Single */\n",
       ".highlight .ss { color: #19177C } /* Literal.String.Symbol */\n",
       ".highlight .bp { color: #008000 } /* Name.Builtin.Pseudo */\n",
       ".highlight .fm { color: #0000FF } /* Name.Function.Magic */\n",
       ".highlight .vc { color: #19177C } /* Name.Variable.Class */\n",
       ".highlight .vg { color: #19177C } /* Name.Variable.Global */\n",
       ".highlight .vi { color: #19177C } /* Name.Variable.Instance */\n",
       ".highlight .vm { color: #19177C } /* Name.Variable.Magic */\n",
       ".highlight .il { color: #666666 } /* Literal.Number.Integer.Long */</style>    <div class=\"highlight\"><pre><span></span><span class=\"nt\">&lt;graph&gt;</span>\n",
       "  <span class=\"nt\">&lt;version&gt;</span>1.0<span class=\"nt\">&lt;/version&gt;</span>\n",
       "  <span class=\"nt\">&lt;node</span> <span class=\"na\">id=</span><span class=\"s\">&quot;Read&quot;</span><span class=\"nt\">&gt;</span>\n",
       "    <span class=\"nt\">&lt;operator&gt;</span>Read<span class=\"nt\">&lt;/operator&gt;</span>\n",
       "    <span class=\"nt\">&lt;sources/&gt;</span>\n",
       "    <span class=\"nt\">&lt;parameters</span> <span class=\"na\">class=</span><span class=\"s\">&quot;com.bc.ceres.binding.dom.XppDomElement&quot;</span><span class=\"nt\">&gt;</span>\n",
       "      <span class=\"nt\">&lt;file&gt;</span>some1<span class=\"nt\">&lt;/file&gt;</span>\n",
       "      <span class=\"nt\">&lt;formatName&gt;</span>SENTINEL-1<span class=\"nt\">&lt;/formatName&gt;</span>\n",
       "      <span class=\"nt\">&lt;operator&gt;</span>Read<span class=\"nt\">&lt;/operator&gt;</span>\n",
       "    <span class=\"nt\">&lt;/parameters&gt;</span>\n",
       "  <span class=\"nt\">&lt;/node&gt;</span>\n",
       "  <span class=\"nt\">&lt;node</span> <span class=\"na\">id=</span><span class=\"s\">&quot;Calibration&quot;</span><span class=\"nt\">&gt;</span>\n",
       "    <span class=\"nt\">&lt;operator&gt;</span>Calibration<span class=\"nt\">&lt;/operator&gt;</span>\n",
       "    <span class=\"nt\">&lt;sources&gt;</span>\n",
       "      <span class=\"nt\">&lt;sourceProduct</span> <span class=\"na\">refid=</span><span class=\"s\">&quot;Read&quot;</span><span class=\"nt\">/&gt;</span>\n",
       "    <span class=\"nt\">&lt;/sources&gt;</span>\n",
       "    <span class=\"nt\">&lt;parameters</span> <span class=\"na\">class=</span><span class=\"s\">&quot;com.bc.ceres.binding.dom.XppDomElement&quot;</span><span class=\"nt\">&gt;</span>\n",
       "      <span class=\"nt\">&lt;auxFile&gt;</span>Latest Auxiliary File<span class=\"nt\">&lt;/auxFile&gt;</span>\n",
       "      <span class=\"nt\">&lt;createBetaBand&gt;</span>false<span class=\"nt\">&lt;/createBetaBand&gt;</span>\n",
       "      <span class=\"nt\">&lt;createGammaBand&gt;</span>false<span class=\"nt\">&lt;/createGammaBand&gt;</span>\n",
       "      <span class=\"nt\">&lt;externalAuxFile/&gt;</span>\n",
       "      <span class=\"nt\">&lt;operator&gt;</span>Calibration<span class=\"nt\">&lt;/operator&gt;</span>\n",
       "      <span class=\"nt\">&lt;outputBetaBand&gt;</span>false<span class=\"nt\">&lt;/outputBetaBand&gt;</span>\n",
       "      <span class=\"nt\">&lt;outputGammaBand&gt;</span>false<span class=\"nt\">&lt;/outputGammaBand&gt;</span>\n",
       "      <span class=\"nt\">&lt;outputImageInComplex&gt;</span>false<span class=\"nt\">&lt;/outputImageInComplex&gt;</span>\n",
       "      <span class=\"nt\">&lt;outputImageScaleInDb&gt;</span>false<span class=\"nt\">&lt;/outputImageScaleInDb&gt;</span>\n",
       "      <span class=\"nt\">&lt;outputSigmaBand&gt;</span>true<span class=\"nt\">&lt;/outputSigmaBand&gt;</span>\n",
       "      <span class=\"nt\">&lt;selectedPolarisations/&gt;</span>\n",
       "      <span class=\"nt\">&lt;sourceBandNames/&gt;</span>\n",
       "    <span class=\"nt\">&lt;/parameters&gt;</span>\n",
       "  <span class=\"nt\">&lt;/node&gt;</span>\n",
       "<span class=\"nt\">&lt;/graph&gt;</span>\n",
       "</pre></div>\n"
      ],
      "text/plain": [
       "<IPython.core.display.HTML object>"
      ]
     },
     "metadata": {},
     "output_type": "display_data"
    }
   ],
   "source": [
    "from py_snap_helpers import Graph, Operator\n",
    "\n",
    "g = Graph() \n",
    "\n",
    "read = Operator('Read')\n",
    "\n",
    "read.formatName = 'SENTINEL-1'\n",
    "read.file = 'some1'\n",
    "\n",
    "g.add_node(read, 'Read')\n",
    "\n",
    "g.add_node(Operator('Calibration'), 'Calibration', 'Read')\n",
    "\n",
    "g.view()"
   ]
  },
  {
   "cell_type": "code",
   "execution_count": 17,
   "metadata": {},
   "outputs": [
    {
     "name": "stdout",
     "output_type": "stream",
     "text": [
      "Processing the graph\n",
      "Executing processing graph\n",
      "done.\n"
     ]
    },
    {
     "ename": "Exception",
     "evalue": "Graph execution failed (exit code 1)",
     "output_type": "error",
     "traceback": [
      "\u001b[0;31m---------------------------------------------------------------------------\u001b[0m",
      "\u001b[0;31mException\u001b[0m                                 Traceback (most recent call last)",
      "\u001b[0;32m<ipython-input-17-a4e638c88413>\u001b[0m in \u001b[0;36m<module>\u001b[0;34m\u001b[0m\n\u001b[0;32m----> 1\u001b[0;31m \u001b[0mg\u001b[0m\u001b[0;34m.\u001b[0m\u001b[0mrun\u001b[0m\u001b[0;34m(\u001b[0m\u001b[0;34m)\u001b[0m\u001b[0;34m\u001b[0m\u001b[0;34m\u001b[0m\u001b[0m\n\u001b[0m",
      "\u001b[0;32m/srv/conda/envs/env_snap/lib/python3.7/site-packages/UNKNOWN-0.0.0-py3.7.egg/py_snap_helpers/graph.py\u001b[0m in \u001b[0;36mrun\u001b[0;34m(self)\u001b[0m\n\u001b[1;32m    300\u001b[0m         \u001b[0;32mif\u001b[0m \u001b[0mrc\u001b[0m \u001b[0;34m!=\u001b[0m \u001b[0;36m0\u001b[0m\u001b[0;34m:\u001b[0m\u001b[0;34m\u001b[0m\u001b[0;34m\u001b[0m\u001b[0m\n\u001b[1;32m    301\u001b[0m \u001b[0;34m\u001b[0m\u001b[0m\n\u001b[0;32m--> 302\u001b[0;31m             \u001b[0;32mraise\u001b[0m \u001b[0mException\u001b[0m\u001b[0;34m(\u001b[0m\u001b[0;34m'Graph execution failed (exit code {})'\u001b[0m\u001b[0;34m.\u001b[0m\u001b[0mformat\u001b[0m\u001b[0;34m(\u001b[0m\u001b[0mrc\u001b[0m\u001b[0;34m)\u001b[0m\u001b[0;34m)\u001b[0m\u001b[0;34m\u001b[0m\u001b[0;34m\u001b[0m\u001b[0m\n\u001b[0m\u001b[1;32m    303\u001b[0m \u001b[0;34m\u001b[0m\u001b[0m\n\u001b[1;32m    304\u001b[0m         \u001b[0;32mreturn\u001b[0m \u001b[0mrc\u001b[0m\u001b[0;34m\u001b[0m\u001b[0;34m\u001b[0m\u001b[0m\n",
      "\u001b[0;31mException\u001b[0m: Graph execution failed (exit code 1)"
     ]
    }
   ],
   "source": [
    "g.run()"
   ]
  },
  {
   "cell_type": "code",
   "execution_count": 18,
   "metadata": {},
   "outputs": [
    {
     "name": "stdout",
     "output_type": "stream",
     "text": [
      "gpt binary: /srv/conda/envs/env_snap/snap/bin/gpt\n",
      "working dir: .\n",
      "\n",
      "<graph>\n",
      "  <version>1.0</version>\n",
      "  <node id=\"Read\">\n",
      "    <operator>Read</operator>\n",
      "    <sources/>\n",
      "    <parameters class=\"com.bc.ceres.binding.dom.XppDomElement\">\n",
      "      <file>some1</file>\n",
      "      <formatName>SENTINEL-1</formatName>\n",
      "      <operator>Read</operator>\n",
      "    </parameters>\n",
      "  </node>\n",
      "  <node id=\"Calibration\">\n",
      "    <operator>Calibration</operator>\n",
      "    <sources>\n",
      "      <sourceProduct refid=\"Read\"/>\n",
      "    </sources>\n",
      "    <parameters class=\"com.bc.ceres.binding.dom.XppDomElement\">\n",
      "      <auxFile>Latest Auxiliary File</auxFile>\n",
      "      <createBetaBand>false</createBetaBand>\n",
      "      <createGammaBand>false</createGammaBand>\n",
      "      <externalAuxFile/>\n",
      "      <operator>Calibration</operator>\n",
      "      <outputBetaBand>false</outputBetaBand>\n",
      "      <outputGammaBand>false</outputGammaBand>\n",
      "      <outputImageInComplex>false</outputImageInComplex>\n",
      "      <outputImageScaleInDb>false</outputImageScaleInDb>\n",
      "      <outputSigmaBand>true</outputSigmaBand>\n",
      "      <selectedPolarisations/>\n",
      "      <sourceBandNames/>\n",
      "    </parameters>\n",
      "  </node>\n",
      "</graph>\n",
      "\n"
     ]
    }
   ],
   "source": [
    "print(g)"
   ]
  },
  {
   "cell_type": "code",
   "execution_count": null,
   "metadata": {},
   "outputs": [],
   "source": [
    "g = Graph() \n",
    "\n",
    "read = Operator('Read')\n",
    "\n",
    "read.formatName = 'SENTINEL-1'\n",
    "read.file = 'some1'\n",
    "\n",
    "\n",
    "operators = [read,\n",
    "             'Resample',\n",
    "             'Reproject',\n",
    "             'Subset',\n",
    "             'AddLandCover',\n",
    "             'Write']\n",
    "\n",
    "for index, operator in enumerate(operators):\n",
    "    \n",
    "    print('Adding Operator {} to graph'.format(operator.operator if isinstance(operator, Operator) else operator))\n",
    "    if index == 0:            \n",
    "        source_node_id = ''\n",
    "\n",
    "    else:\n",
    "        source_node_id = operators[index - 1].operator if isinstance(operators[index - 1], Operator) else operators[index - 1]\n",
    "        \n",
    "        \n",
    "        \n",
    "    print(isinstance(operator, Operator))\n",
    "    g.add_node(operator if isinstance(operator, Operator) else Operator(operator),\n",
    "               operator.operator if isinstance(operator, Operator) else operator,\n",
    "               source_node_id)\n",
    "      "
   ]
  },
  {
   "cell_type": "code",
   "execution_count": null,
   "metadata": {},
   "outputs": [],
   "source": [
    "g.view()"
   ]
  },
  {
   "cell_type": "code",
   "execution_count": null,
   "metadata": {},
   "outputs": [],
   "source": [
    "import aaa"
   ]
  },
  {
   "cell_type": "code",
   "execution_count": null,
   "metadata": {},
   "outputs": [],
   "source": []
  }
 ],
 "metadata": {
  "kernelspec": {
   "display_name": "Python [conda env:env_snap]",
   "language": "python",
   "name": "conda-env-env_snap-py"
  },
  "language_info": {
   "codemirror_mode": {
    "name": "ipython",
    "version": 3
   },
   "file_extension": ".py",
   "mimetype": "text/x-python",
   "name": "python",
   "nbconvert_exporter": "python",
   "pygments_lexer": "ipython3",
   "version": "3.7.9"
  }
 },
 "nbformat": 4,
 "nbformat_minor": 4
}
