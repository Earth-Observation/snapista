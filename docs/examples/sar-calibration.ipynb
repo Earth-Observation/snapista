{
 "cells": [
  {
   "cell_type": "markdown",
   "metadata": {},
   "source": [
    "## SAR Calibration \n",
    "\n",
    "Create a graph to calibrate a Sentinel-1 GRD product"
   ]
  },
  {
   "cell_type": "code",
   "execution_count": 1,
   "metadata": {},
   "outputs": [],
   "source": [
    "from snapista import Graph\n",
    "from snapista import Operator, OperatorParams"
   ]
  },
  {
   "cell_type": "markdown",
   "metadata": {},
   "source": [
    "Create a `Graph` object"
   ]
  },
  {
   "cell_type": "code",
   "execution_count": 2,
   "metadata": {},
   "outputs": [],
   "source": [
    "g = Graph()"
   ]
  },
  {
   "cell_type": "markdown",
   "metadata": {},
   "source": [
    "Add the `Read` node to the graph"
   ]
  },
  {
   "cell_type": "code",
   "execution_count": 3,
   "metadata": {},
   "outputs": [],
   "source": [
    "path_to_manifest = 'path to manifest'\n",
    "\n",
    "g.add_node(\n",
    "    operator=Operator(\n",
    "        \"Read\",\n",
    "        formatName=\"SENTINEL-1\",\n",
    "        file=path_to_manifest,\n",
    "    ),\n",
    "    node_id=\"read\",\n",
    ")"
   ]
  },
  {
   "cell_type": "markdown",
   "metadata": {},
   "source": [
    "Add the remaining nodes:"
   ]
  },
  {
   "cell_type": "code",
   "execution_count": 4,
   "metadata": {},
   "outputs": [],
   "source": [
    "g.add_node(\n",
    "        operator=Operator(\"Apply-Orbit-File\", continueOnFail=\"true\"),\n",
    "        node_id=\"apply-orbit-file\",\n",
    "        source=\"read\",\n",
    ")\n",
    "\n",
    "g.add_node(\n",
    "    operator=Operator(\n",
    "        \"Remove-GRD-Border-Noise\", borderLimit=\"2000\", trimThreshold=\"0.2\"\n",
    "    ),\n",
    "    node_id=\"noise-removal\",\n",
    "    source=\"apply-orbit-file\",\n",
    ")\n",
    "\n",
    "g.add_node(\n",
    "    operator=Operator(\"Calibration\"),\n",
    "    node_id=\"calibration\",\n",
    "    source=\"noise-removal\",\n",
    ")\n",
    "\n",
    "g.add_node(\n",
    "    operator=Operator(\"LinearToFromdB\"),\n",
    "    node_id=\"linear\",\n",
    "    source=\"calibration\",\n",
    ")\n",
    "\n",
    "g.add_node(\n",
    "    operator=Operator(\n",
    "        \"Terrain-Correction\",\n",
    "        pixelSpacingInMeter=\"20.0\",\n",
    "        demName=\"SRTM 3Sec\",\n",
    "        mapProjection=\"AUTO:42001\",\n",
    "        ),\n",
    "        node_id=\"terrain-correction\",\n",
    "        source=\"linear\",\n",
    ")\n",
    "\n",
    "g.add_node(\n",
    "    operator=Operator(\"Write\", file='result.tif', formatName=\"GeoTIFF-BigTIFF\"),\n",
    "    node_id=\"write\",\n",
    "    source=\"terrain-correction\",\n",
    ")"
   ]
  },
  {
   "cell_type": "markdown",
   "metadata": {},
   "source": [
    "Inspect the graph"
   ]
  },
  {
   "cell_type": "code",
   "execution_count": 5,
   "metadata": {},
   "outputs": [
    {
     "name": "stdout",
     "output_type": "stream",
     "text": [
      "<graph>\n",
      "  <version>1.0</version>\n",
      "  <node id=\"read\">\n",
      "    <operator>Read</operator>\n",
      "    <sources/>\n",
      "    <parameters class=\"com.bc.ceres.binding.dom.XppDomElement\">\n",
      "      <bandNames/>\n",
      "      <copyMetadata>true</copyMetadata>\n",
      "      <file>path to manifest</file>\n",
      "      <formatName>SENTINEL-1</formatName>\n",
      "      <geometryRegion/>\n",
      "      <maskNames/>\n",
      "      <pixelRegion/>\n",
      "    </parameters>\n",
      "  </node>\n",
      "  <node id=\"apply-orbit-file\">\n",
      "    <operator>Apply-Orbit-File</operator>\n",
      "    <sources>\n",
      "      <sourceProduct refid=\"read\"/>\n",
      "    </sources>\n",
      "    <parameters class=\"com.bc.ceres.binding.dom.XppDomElement\">\n",
      "      <continueOnFail>true</continueOnFail>\n",
      "      <orbitType>Sentinel Precise (Auto Download)</orbitType>\n",
      "      <polyDegree>3</polyDegree>\n",
      "    </parameters>\n",
      "  </node>\n",
      "  <node id=\"noise-removal\">\n",
      "    <operator>Remove-GRD-Border-Noise</operator>\n",
      "    <sources>\n",
      "      <sourceProduct refid=\"apply-orbit-file\"/>\n",
      "    </sources>\n",
      "    <parameters class=\"com.bc.ceres.binding.dom.XppDomElement\">\n",
      "      <borderLimit>2000</borderLimit>\n",
      "      <selectedPolarisations/>\n",
      "      <trimThreshold>0.2</trimThreshold>\n",
      "    </parameters>\n",
      "  </node>\n",
      "  <node id=\"calibration\">\n",
      "    <operator>Calibration</operator>\n",
      "    <sources>\n",
      "      <sourceProduct refid=\"noise-removal\"/>\n",
      "    </sources>\n",
      "    <parameters class=\"com.bc.ceres.binding.dom.XppDomElement\">\n",
      "      <auxFile>Latest Auxiliary File</auxFile>\n",
      "      <createBetaBand>false</createBetaBand>\n",
      "      <createGammaBand>false</createGammaBand>\n",
      "      <externalAuxFile/>\n",
      "      <outputBetaBand>false</outputBetaBand>\n",
      "      <outputGammaBand>false</outputGammaBand>\n",
      "      <outputImageInComplex>false</outputImageInComplex>\n",
      "      <outputImageScaleInDb>false</outputImageScaleInDb>\n",
      "      <outputSigmaBand>true</outputSigmaBand>\n",
      "      <selectedPolarisations/>\n",
      "      <sourceBandNames/>\n",
      "    </parameters>\n",
      "  </node>\n",
      "  <node id=\"linear\">\n",
      "    <operator>LinearToFromdB</operator>\n",
      "    <sources>\n",
      "      <sourceProduct refid=\"calibration\"/>\n",
      "    </sources>\n",
      "    <parameters class=\"com.bc.ceres.binding.dom.XppDomElement\">\n",
      "      <sourceBandNames/>\n",
      "    </parameters>\n",
      "  </node>\n",
      "  <node id=\"terrain-correction\">\n",
      "    <operator>Terrain-Correction</operator>\n",
      "    <sources>\n",
      "      <sourceProduct refid=\"linear\"/>\n",
      "    </sources>\n",
      "    <parameters class=\"com.bc.ceres.binding.dom.XppDomElement\">\n",
      "      <alignToStandardGrid>false</alignToStandardGrid>\n",
      "      <applyRadiometricNormalization>false</applyRadiometricNormalization>\n",
      "      <auxFile>Latest Auxiliary File</auxFile>\n",
      "      <demName>SRTM 3Sec</demName>\n",
      "      <demResamplingMethod>BILINEAR_INTERPOLATION</demResamplingMethod>\n",
      "      <externalAuxFile/>\n",
      "      <externalDEMApplyEGM>true</externalDEMApplyEGM>\n",
      "      <externalDEMFile/>\n",
      "      <externalDEMNoDataValue>0</externalDEMNoDataValue>\n",
      "      <imgResamplingMethod>BILINEAR_INTERPOLATION</imgResamplingMethod>\n",
      "      <incidenceAngleForGamma0>Use projected local incidence angle from DEM</incidenceAngleForGamma0>\n",
      "      <incidenceAngleForSigma0>Use projected local incidence angle from DEM</incidenceAngleForSigma0>\n",
      "      <mapProjection>AUTO:42001</mapProjection>\n",
      "      <nodataValueAtSea>true</nodataValueAtSea>\n",
      "      <outputComplex>false</outputComplex>\n",
      "      <pixelSpacingInDegree>0</pixelSpacingInDegree>\n",
      "      <pixelSpacingInMeter>20.0</pixelSpacingInMeter>\n",
      "      <saveBetaNought>false</saveBetaNought>\n",
      "      <saveDEM>false</saveDEM>\n",
      "      <saveGammaNought>false</saveGammaNought>\n",
      "      <saveIncidenceAngleFromEllipsoid>false</saveIncidenceAngleFromEllipsoid>\n",
      "      <saveLatLon>false</saveLatLon>\n",
      "      <saveLocalIncidenceAngle>false</saveLocalIncidenceAngle>\n",
      "      <saveProjectedLocalIncidenceAngle>false</saveProjectedLocalIncidenceAngle>\n",
      "      <saveSelectedSourceBand>true</saveSelectedSourceBand>\n",
      "      <saveSigmaNought>false</saveSigmaNought>\n",
      "      <sourceBandNames/>\n",
      "      <standardGridOriginX>0</standardGridOriginX>\n",
      "      <standardGridOriginY>0</standardGridOriginY>\n",
      "    </parameters>\n",
      "  </node>\n",
      "  <node id=\"write\">\n",
      "    <operator>Write</operator>\n",
      "    <sources>\n",
      "      <sourceProduct refid=\"terrain-correction\"/>\n",
      "    </sources>\n",
      "    <parameters class=\"com.bc.ceres.binding.dom.XppDomElement\">\n",
      "      <clearCacheAfterRowWrite>false</clearCacheAfterRowWrite>\n",
      "      <deleteOutputOnFailure>true</deleteOutputOnFailure>\n",
      "      <file>result.tif</file>\n",
      "      <formatName>GeoTIFF-BigTIFF</formatName>\n",
      "      <writeEntireTileRows>false</writeEntireTileRows>\n",
      "    </parameters>\n",
      "  </node>\n",
      "</graph>\n",
      "\n"
     ]
    }
   ],
   "source": [
    "g.view()"
   ]
  },
  {
   "cell_type": "markdown",
   "metadata": {},
   "source": [
    "Run the graph"
   ]
  },
  {
   "cell_type": "code",
   "execution_count": null,
   "metadata": {},
   "outputs": [],
   "source": [
    "g.run()"
   ]
  },
  {
   "cell_type": "code",
   "execution_count": null,
   "metadata": {},
   "outputs": [],
   "source": []
  }
 ],
 "metadata": {
  "kernelspec": {
   "display_name": "Python [conda env:env_snap]",
   "language": "python",
   "name": "conda-env-env_snap-py"
  },
  "language_info": {
   "codemirror_mode": {
    "name": "ipython",
    "version": 3
   },
   "file_extension": ".py",
   "mimetype": "text/x-python",
   "name": "python",
   "nbconvert_exporter": "python",
   "pygments_lexer": "ipython3",
   "version": "3.9.2"
  }
 },
 "nbformat": 4,
 "nbformat_minor": 4
}
