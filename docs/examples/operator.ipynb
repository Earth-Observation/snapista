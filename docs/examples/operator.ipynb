{
 "cells": [
  {
   "cell_type": "markdown",
   "metadata": {},
   "source": [
    "# Operator"
   ]
  },
  {
   "cell_type": "code",
   "execution_count": 1,
   "metadata": {},
   "outputs": [],
   "source": [
    "from snapista import Operator"
   ]
  },
  {
   "cell_type": "markdown",
   "metadata": {},
   "source": [
    "Instantiate a SNAP operator by providing its name:"
   ]
  },
  {
   "cell_type": "code",
   "execution_count": 2,
   "metadata": {},
   "outputs": [
    {
     "data": {
      "text/plain": [
       "Operator('Calibration', sourceBandNames='None', auxFile='Latest Auxiliary File', externalAuxFile='None', outputImageInComplex='false', outputImageScaleInDb='false', createGammaBand='false', createBetaBand='false', selectedPolarisations='None', outputSigmaBand='true', outputGammaBand='false', outputBetaBand='false')"
      ]
     },
     "execution_count": 2,
     "metadata": {},
     "output_type": "execute_result"
    }
   ],
   "source": [
    "calibration = Operator('Calibration')\n",
    "\n",
    "calibration"
   ]
  },
  {
   "cell_type": "markdown",
   "metadata": {},
   "source": [
    "Get the SNAP Operator description:"
   ]
  },
  {
   "cell_type": "code",
   "execution_count": 3,
   "metadata": {},
   "outputs": [
    {
     "name": "stdout",
     "output_type": "stream",
     "text": [
      "Operator name: Calibration\n",
      "\n",
      "Description: Calibration of products\n",
      "Authors: Jun Lu, Luis Veci\n",
      "\n",
      "org.esa.s1tbx.calibration.gpf.CalibrationOp\n",
      "Version: 1.0\n",
      "\n",
      "Parameters:\n",
      "\n",
      "\tsourceBandNames: The list of source bands.\n",
      "\t\tDefault Value: None\n",
      "\n",
      "\t\tPossible values: []\n",
      "\n",
      "\tauxFile: The auxiliary file\n",
      "\t\tDefault Value: Latest Auxiliary File\n",
      "\n",
      "\t\tPossible values: ['Latest Auxiliary File', 'Product Auxiliary File', 'External Auxiliary File']\n",
      "\n",
      "\texternalAuxFile: The antenna elevation pattern gain auxiliary data file.\n",
      "\t\tDefault Value: None\n",
      "\n",
      "\t\tPossible values: []\n",
      "\n",
      "\toutputImageInComplex: Output image in complex\n",
      "\t\tDefault Value: false\n",
      "\n",
      "\t\tPossible values: []\n",
      "\n",
      "\toutputImageScaleInDb: Output image scale\n",
      "\t\tDefault Value: false\n",
      "\n",
      "\t\tPossible values: []\n",
      "\n",
      "\tcreateGammaBand: Create gamma0 virtual band\n",
      "\t\tDefault Value: false\n",
      "\n",
      "\t\tPossible values: []\n",
      "\n",
      "\tcreateBetaBand: Create beta0 virtual band\n",
      "\t\tDefault Value: false\n",
      "\n",
      "\t\tPossible values: []\n",
      "\n",
      "\tselectedPolarisations: The list of polarisations\n",
      "\t\tDefault Value: None\n",
      "\n",
      "\t\tPossible values: []\n",
      "\n",
      "\toutputSigmaBand: Output sigma0 band\n",
      "\t\tDefault Value: true\n",
      "\n",
      "\t\tPossible values: []\n",
      "\n",
      "\toutputGammaBand: Output gamma0 band\n",
      "\t\tDefault Value: false\n",
      "\n",
      "\t\tPossible values: []\n",
      "\n",
      "\toutputBetaBand: Output beta0 band\n",
      "\t\tDefault Value: false\n",
      "\n",
      "\t\tPossible values: []\n",
      "\n"
     ]
    }
   ],
   "source": [
    "calibration.describe()"
   ]
  },
  {
   "cell_type": "markdown",
   "metadata": {},
   "source": [
    "Instantiate a SNAP operator by providing its name and update a parameter value"
   ]
  },
  {
   "cell_type": "code",
   "execution_count": 4,
   "metadata": {},
   "outputs": [],
   "source": [
    "calibration = Operator('Calibration')"
   ]
  },
  {
   "cell_type": "markdown",
   "metadata": {},
   "source": [
    "List the Operator instance members:"
   ]
  },
  {
   "cell_type": "code",
   "execution_count": 5,
   "metadata": {},
   "outputs": [
    {
     "data": {
      "text/plain": [
       "['__class__',\n",
       " '__delattr__',\n",
       " '__dict__',\n",
       " '__dir__',\n",
       " '__doc__',\n",
       " '__eq__',\n",
       " '__format__',\n",
       " '__ge__',\n",
       " '__getattribute__',\n",
       " '__gt__',\n",
       " '__hash__',\n",
       " '__init__',\n",
       " '__init_subclass__',\n",
       " '__le__',\n",
       " '__lt__',\n",
       " '__module__',\n",
       " '__ne__',\n",
       " '__new__',\n",
       " '__reduce__',\n",
       " '__reduce_ex__',\n",
       " '__repr__',\n",
       " '__setattr__',\n",
       " '__sizeof__',\n",
       " '__str__',\n",
       " '__subclasshook__',\n",
       " '__weakref__',\n",
       " '_get_formats',\n",
       " '_params',\n",
       " 'auxFile',\n",
       " 'createBetaBand',\n",
       " 'createGammaBand',\n",
       " 'describe',\n",
       " 'externalAuxFile',\n",
       " 'operator',\n",
       " 'outputBetaBand',\n",
       " 'outputGammaBand',\n",
       " 'outputImageInComplex',\n",
       " 'outputImageScaleInDb',\n",
       " 'outputSigmaBand',\n",
       " 'selectedPolarisations',\n",
       " 'sourceBandNames',\n",
       " 'to_dict']"
      ]
     },
     "execution_count": 5,
     "metadata": {},
     "output_type": "execute_result"
    }
   ],
   "source": [
    "dir(calibration)"
   ]
  },
  {
   "cell_type": "markdown",
   "metadata": {},
   "source": [
    "Update a parameter value:"
   ]
  },
  {
   "cell_type": "code",
   "execution_count": 6,
   "metadata": {},
   "outputs": [
    {
     "data": {
      "text/plain": [
       "Operator('Calibration', sourceBandNames='None', auxFile='Latest Auxiliary File', externalAuxFile='None', outputImageInComplex='false', outputImageScaleInDb='false', createGammaBand='false', createBetaBand='true', selectedPolarisations='None', outputSigmaBand='true', outputGammaBand='false', outputBetaBand='false')"
      ]
     },
     "execution_count": 6,
     "metadata": {},
     "output_type": "execute_result"
    }
   ],
   "source": [
    "calibration.createBetaBand = 'true'\n",
    "\n",
    "calibration"
   ]
  },
  {
   "cell_type": "markdown",
   "metadata": {},
   "source": [
    "Note: boolean are set as string with `'true'` or `'false`'"
   ]
  },
  {
   "cell_type": "markdown",
   "metadata": {},
   "source": [
    "Instantiate a SNAP operator by providing its name and setting the values in the constructor "
   ]
  },
  {
   "cell_type": "code",
   "execution_count": 7,
   "metadata": {},
   "outputs": [
    {
     "data": {
      "text/plain": [
       "Operator('Calibration', sourceBandNames='None', auxFile='Latest Auxiliary File', externalAuxFile='None', outputImageInComplex='false', outputImageScaleInDb='false', createGammaBand='true', createBetaBand='true', selectedPolarisations='None', outputSigmaBand='true', outputGammaBand='false', outputBetaBand='false')"
      ]
     },
     "execution_count": 7,
     "metadata": {},
     "output_type": "execute_result"
    }
   ],
   "source": [
    "calibration = Operator('Calibration', \n",
    "                       createBetaBand='true', \n",
    "                       createGammaBand='true')\n",
    "\n",
    "calibration"
   ]
  },
  {
   "cell_type": "markdown",
   "metadata": {},
   "source": [
    "Print an Operator object"
   ]
  },
  {
   "cell_type": "code",
   "execution_count": 8,
   "metadata": {},
   "outputs": [
    {
     "name": "stdout",
     "output_type": "stream",
     "text": [
      "Calibration:\n",
      "\tsourceBandNames='None'\n",
      "\tauxFile='Latest Auxiliary File'\n",
      "\texternalAuxFile='None'\n",
      "\toutputImageInComplex='false'\n",
      "\toutputImageScaleInDb='false'\n",
      "\tcreateGammaBand='true'\n",
      "\tcreateBetaBand='true'\n",
      "\tselectedPolarisations='None'\n",
      "\toutputSigmaBand='true'\n",
      "\toutputGammaBand='false'\n",
      "\toutputBetaBand='false'\n"
     ]
    }
   ],
   "source": [
    "print(calibration)"
   ]
  }
 ],
 "metadata": {
  "kernelspec": {
   "display_name": "Python [conda env:env_snap]",
   "language": "python",
   "name": "conda-env-env_snap-py"
  },
  "language_info": {
   "codemirror_mode": {
    "name": "ipython",
    "version": 3
   },
   "file_extension": ".py",
   "mimetype": "text/x-python",
   "name": "python",
   "nbconvert_exporter": "python",
   "pygments_lexer": "ipython3",
   "version": "3.9.2"
  }
 },
 "nbformat": 4,
 "nbformat_minor": 4
}
